{
 "cells": [
  {
   "cell_type": "code",
   "execution_count": 1,
   "id": "3478f4b6-b3e8-4018-8899-5990def8ea71",
   "metadata": {},
   "outputs": [
    {
     "data": {
      "text/plain": [
       "3"
      ]
     },
     "execution_count": 1,
     "metadata": {},
     "output_type": "execute_result"
    }
   ],
   "source": [
    "1+2"
   ]
  },
  {
   "cell_type": "code",
   "execution_count": null,
   "id": "c2b9d2dd-3aaf-442d-98ce-2900a92a3c9c",
   "metadata": {},
   "outputs": [],
   "source": [
    "#python accepts/support scripting----means single code"
   ]
  },
  {
   "cell_type": "code",
   "execution_count": null,
   "id": "10cf5057-4fef-4c5d-a9da-bc6bb60cc163",
   "metadata": {},
   "outputs": [],
   "source": [
    "oops--provide proper structure of code in easiest possible way"
   ]
  },
  {
   "cell_type": "code",
   "execution_count": null,
   "id": "3673fc8b-ecde-4e7b-bc13-0652d6819bd8",
   "metadata": {},
   "outputs": [],
   "source": [
    "\n",
    "\n",
    "Class---classification of a real world entity when we classify--Blue print of object\n",
    "Object--variable of class"
   ]
  },
  {
   "cell_type": "code",
   "execution_count": null,
   "id": "b3c7fde2-4977-4a34-9ba4-d0d51e7586f1",
   "metadata": {},
   "outputs": [],
   "source": [
    "#a,b,c are variables in scripting\n",
    "a=10\n",
    "b=20\n",
    "c=50#in oops a,b,c are objects of int class and hold properties of int class\n",
    "#alll are belongs to the same data type int class created by someone that has some properties--we created objects for int class"
   ]
  },
  {
   "cell_type": "code",
   "execution_count": 2,
   "id": "3f9f68c9-a02d-4276-8b54-14ea318d9695",
   "metadata": {},
   "outputs": [],
   "source": [
    "s=\"sudh\""
   ]
  },
  {
   "cell_type": "code",
   "execution_count": 3,
   "id": "eb1d20bd-5b47-4556-b263-56d3520b63e0",
   "metadata": {},
   "outputs": [
    {
     "data": {
      "text/plain": [
       "'SUDH'"
      ]
     },
     "execution_count": 3,
     "metadata": {},
     "output_type": "execute_result"
    }
   ],
   "source": [
    "s.upper() #inside class someone written these functions (upper,lower etc)w.r.t list,t,l,d"
   ]
  },
  {
   "cell_type": "code",
   "execution_count": null,
   "id": "baacc05c-2a1c-4f10-ae77-f00e09ccd7f2",
   "metadata": {},
   "outputs": [],
   "source": [
    "#we dont know what written inside \n",
    "#object is a variable of class"
   ]
  },
  {
   "cell_type": "code",
   "execution_count": null,
   "id": "143dfae0-32b9-438b-9a4b-c7d101f97d81",
   "metadata": {},
   "outputs": [],
   "source": [
    "#according to google--car is a class---red car--object"
   ]
  },
  {
   "cell_type": "code",
   "execution_count": null,
   "id": "1508e6ab-408c-41ec-ac3e-e85375295cf5",
   "metadata": {},
   "outputs": [],
   "source": [
    "#class object used for structure--for one class we can create n number of objects"
   ]
  },
  {
   "cell_type": "code",
   "execution_count": null,
   "id": "f43a2dd0-0536-44d0-a90d-4d1ab93262bc",
   "metadata": {},
   "outputs": [],
   "source": [
    "#clas-try keep one type of entity in one case"
   ]
  },
  {
   "cell_type": "code",
   "execution_count": 3,
   "id": "2ce6f77b-f2d2-49d6-967b-078983207548",
   "metadata": {},
   "outputs": [],
   "source": [
    "class bankaccount : #all functions belong similiar kind of statement--we can do structure inside class\n",
    "    \n",
    "    def openaccount(self,name,email_id): #if you create fun inside class always use self or pointer to classes you can use any name for reference\n",
    "        print(\"open an account by taking name and mail id\")\n",
    "        return name+email_id\n",
    "    def deposit(self,amount):\n",
    "        print(\"i am trying to deposit an amount in my account\")\n",
    "    def withdraw(self,amt_with):\n",
    "        print(\"withdraw the amount\")\n",
    "    def update_details(self,name_update,email_update):\n",
    "        print(\"this function will update my name and mail if for account\")"
   ]
  },
  {
   "cell_type": "code",
   "execution_count": 8,
   "id": "0a0f250f-5c0e-4c35-83ff-db159d96b718",
   "metadata": {},
   "outputs": [
    {
     "name": "stdout",
     "output_type": "stream",
     "text": [
      "open an account by taking name and mail id\n"
     ]
    },
    {
     "data": {
      "text/plain": [
       "'vamshivamshi@gmail.com'"
      ]
     },
     "execution_count": 8,
     "metadata": {},
     "output_type": "execute_result"
    }
   ],
   "source": [
    "vamshi = bankaccount()   #variable/object/instance of bank account class--call class name\n",
    "vamshi.openaccount(\"vamshi\",\"vamshi@gmail.com\")  #class methods same like list,tuple"
   ]
  },
  {
   "cell_type": "code",
   "execution_count": 9,
   "id": "c82cb640-f484-423d-b324-b1dda8145390",
   "metadata": {},
   "outputs": [
    {
     "name": "stdout",
     "output_type": "stream",
     "text": [
      "i am trying to deposit an amount in my account\n"
     ]
    }
   ],
   "source": [
    "vamshi.deposit(3000)"
   ]
  },
  {
   "cell_type": "code",
   "execution_count": 19,
   "id": "27f7613b-c629-47be-b58b-5fdff3921998",
   "metadata": {},
   "outputs": [],
   "source": [
    "class list_operations:\n",
    "    def extractfromindex(self,l,index):\n",
    "        return l[index]  #l=[1,2,3]  l[0]---op-1\n",
    "    def extractrangedata(self,l,start,end):\n",
    "        return l[start:end]\n",
    "    def extracteven(self,l):\n",
    "        l1=[]\n",
    "        for i in l:\n",
    "            if i%2==0:\n",
    "                l1.append(i)\n",
    "        return l1"
   ]
  },
  {
   "cell_type": "code",
   "execution_count": 20,
   "id": "0fa1b97d-b713-4ffe-aba6-155608b6843a",
   "metadata": {},
   "outputs": [],
   "source": [
    "vamshi= list_operations()\n"
   ]
  },
  {
   "cell_type": "code",
   "execution_count": 21,
   "id": "4a09caa7-59e9-48ec-8439-55eb64199077",
   "metadata": {},
   "outputs": [],
   "source": [
    "l=[1,2,3,4,5,6]"
   ]
  },
  {
   "cell_type": "code",
   "execution_count": 22,
   "id": "0cac67cc-bc78-40a6-a81e-ab52f29a5510",
   "metadata": {},
   "outputs": [
    {
     "data": {
      "text/plain": [
       "3"
      ]
     },
     "execution_count": 22,
     "metadata": {},
     "output_type": "execute_result"
    }
   ],
   "source": [
    "vamshi.extractfromindex(l,2)"
   ]
  },
  {
   "cell_type": "code",
   "execution_count": 23,
   "id": "f89b038a-2bab-4b9d-9009-1308fbce05d0",
   "metadata": {},
   "outputs": [
    {
     "data": {
      "text/plain": [
       "[2, 3, 4]"
      ]
     },
     "execution_count": 23,
     "metadata": {},
     "output_type": "execute_result"
    }
   ],
   "source": [
    "vamshi.extractrangedata(l,1,4)\n"
   ]
  },
  {
   "cell_type": "code",
   "execution_count": 18,
   "id": "57a6a905-fa61-4e35-ba35-53efae2b0485",
   "metadata": {},
   "outputs": [
    {
     "data": {
      "text/plain": [
       "[2, 4, 6]"
      ]
     },
     "execution_count": 18,
     "metadata": {},
     "output_type": "execute_result"
    }
   ],
   "source": [
    "vamshi.extracteven(l)"
   ]
  },
  {
   "cell_type": "code",
   "execution_count": 29,
   "id": "9e05ea04-dd0c-4b01-80cd-56d17e3fa595",
   "metadata": {},
   "outputs": [],
   "source": [
    "k=list_operations() #you can create n no of objects for single class"
   ]
  },
  {
   "cell_type": "code",
   "execution_count": 30,
   "id": "43afdd04-4995-4a31-8127-ea61ce0988a1",
   "metadata": {},
   "outputs": [
    {
     "data": {
      "text/plain": [
       "[4, 78]"
      ]
     },
     "execution_count": 30,
     "metadata": {},
     "output_type": "execute_result"
    }
   ],
   "source": [
    "k.extracteven([4,5,667,78])"
   ]
  },
  {
   "cell_type": "code",
   "execution_count": 33,
   "id": "c8fb89da-ba3d-44fa-af6c-9891c7e0a58e",
   "metadata": {},
   "outputs": [],
   "source": [
    "class list_operations:\n",
    "    a=10                             #using variable inside class\n",
    "    def extractfromindex(self,l,index):\n",
    "        return l[index]  #l=[1,2,3]  l[0]---op-1\n",
    "    def extractrangedata(self,l,start,end):\n",
    "        return l[start:end]\n",
    "    def extracteven(self,l):\n",
    "        l1=[]\n",
    "        for i in l:\n",
    "            if i%2==0:\n",
    "                l1.append(i)\n",
    "        return l1"
   ]
  },
  {
   "cell_type": "code",
   "execution_count": 34,
   "id": "9fa5325a-4e67-4ab4-8811-841ffc439b51",
   "metadata": {},
   "outputs": [],
   "source": [
    "pr=list_operations()"
   ]
  },
  {
   "cell_type": "code",
   "execution_count": 35,
   "id": "290e4955-84c9-4669-b39b-60fcfce409d4",
   "metadata": {},
   "outputs": [
    {
     "data": {
      "text/plain": [
       "10"
      ]
     },
     "execution_count": 35,
     "metadata": {},
     "output_type": "execute_result"
    }
   ],
   "source": [
    "pr.a"
   ]
  },
  {
   "cell_type": "code",
   "execution_count": 43,
   "id": "c8d2d213-82d6-45e4-82ce-727f0c8708b5",
   "metadata": {},
   "outputs": [],
   "source": [
    "class list_operations:\n",
    "    a=10                             #using variable inside class\n",
    "    l=[1,2,3,4]\n",
    "    def extractfromindex(self,l,index):\n",
    "        return l[index]  #l=[1,2,3]  l[0]---op-1\n",
    "    def extractrangedata(self,l,start,end):\n",
    "        return l[start:end]\n",
    "    def extracteven(self,l):\n",
    "        l1=[]\n",
    "        for i in l:\n",
    "            if i%2==0:\n",
    "                l1.append(i)\n",
    "        return l1\n",
    "    #inside classes all are properties of class"
   ]
  },
  {
   "cell_type": "code",
   "execution_count": 44,
   "id": "325d4cc4-d2d7-4336-8b95-1e6489c64ffe",
   "metadata": {},
   "outputs": [],
   "source": [
    "pri=list_operations()"
   ]
  },
  {
   "cell_type": "code",
   "execution_count": 45,
   "id": "9586ff68-e697-4611-862e-a33edacb6626",
   "metadata": {},
   "outputs": [
    {
     "data": {
      "text/plain": [
       "[1, 2, 3, 4]"
      ]
     },
     "execution_count": 45,
     "metadata": {},
     "output_type": "execute_result"
    }
   ],
   "source": [
    "pri.l"
   ]
  },
  {
   "cell_type": "code",
   "execution_count": 46,
   "id": "49139cdf-da71-426a-9d24-195c5daa76f7",
   "metadata": {},
   "outputs": [
    {
     "data": {
      "text/plain": [
       "[2, 4]"
      ]
     },
     "execution_count": 46,
     "metadata": {},
     "output_type": "execute_result"
    }
   ],
   "source": [
    "pri.extracteven(pri.l)"
   ]
  },
  {
   "cell_type": "code",
   "execution_count": 47,
   "id": "43b604e1-d328-4362-9c48-1dce619d7070",
   "metadata": {},
   "outputs": [],
   "source": [
    "#i dont want same data for next objects\n",
    "#i want diff data w.r.t diff objects\n",
    "a=10\n",
    "b=20\n",
    "c=30"
   ]
  },
  {
   "cell_type": "code",
   "execution_count": 65,
   "id": "43bfb454-faed-49fb-a39f-0ee45e44fe21",
   "metadata": {},
   "outputs": [],
   "source": [
    "#inbuilt fun given __init__ called dunder method/function\n",
    "class list_operations:\n",
    "    #a=10                           \n",
    "    l#=[1,2,3,4]\n",
    "    def __init__(vamshi,l)  : #it is going to ask for data + it will execute automatically and ask data\n",
    "        vamshi.l1=l            #  it is assigning l data to l1\n",
    "        #use _init__--to initialize my object with some data\n",
    "    def extractfromindex(vamshi,l,index):\n",
    "        return l[index]  \n",
    "    def extractrangedata(vamshi,l,start,end):\n",
    "        return l[start:end]\n",
    "    def extracteven(vamshi,l):\n",
    "        l1=[]\n",
    "        for i in l:\n",
    "            if i%2==0:\n",
    "                l1.append(i)\n",
    "        return l1"
   ]
  },
  {
   "cell_type": "code",
   "execution_count": 66,
   "id": "1c623b96-d4b4-48ba-a79d-8d0c826c5507",
   "metadata": {},
   "outputs": [],
   "source": [
    "obj=list_operations([2,3,4,5,6,7])   #we used ---init-- so we need to give that function arguemnets 'l'"
   ]
  },
  {
   "cell_type": "code",
   "execution_count": 68,
   "id": "3cfe0b6d-e574-4481-858c-b37d08e150f7",
   "metadata": {},
   "outputs": [
    {
     "data": {
      "text/plain": [
       "[2, 3, 4, 5, 6, 7]"
      ]
     },
     "execution_count": 68,
     "metadata": {},
     "output_type": "execute_result"
    }
   ],
   "source": [
    "obj.l1  #this is why we use pointers/reference"
   ]
  },
  {
   "cell_type": "code",
   "execution_count": null,
   "id": "6851680a-4312-4e71-8a91-f242115f62b5",
   "metadata": {},
   "outputs": [],
   "source": [
    "#constructor--init-- --it is a kind of method by which we able to provide data to class--for diff objects"
   ]
  },
  {
   "cell_type": "code",
   "execution_count": 70,
   "id": "d85bd899-22b8-44bf-bc03-627081255db0",
   "metadata": {},
   "outputs": [],
   "source": [
    "#inbuilt fun given __init__ called dunder method/function\n",
    "class list_operations:\n",
    "    #a=10                           \n",
    "    l#=[1,2,3,4]\n",
    "    def __init__(vamshi,l)  : \n",
    "        vamshi.l1=l           \n",
    "        vamshi.l2=40         #provided data here only  its not mandatory to pas sdata atin object\n",
    "        vamshi.l3=\"sudh\"\n",
    "        vamshi.l4=(4,5,667,8)\n",
    "        vamshi.l5={\"key\":\"value\"}\n",
    "    def extractfromindex(vamshi,l,index):\n",
    "        return l[index]  \n",
    "    def extractrangedata(vamshi,l,start,end):\n",
    "        return l[start:end]\n",
    "    def extracteven(vamshi,l):\n",
    "        l1=[]\n",
    "        for i in l:\n",
    "            if i%2==0:\n",
    "                l1.append(i)\n",
    "        return l1"
   ]
  },
  {
   "cell_type": "code",
   "execution_count": 72,
   "id": "d973cb47-b50e-4f41-aa7e-8e682d0781ee",
   "metadata": {},
   "outputs": [],
   "source": [
    "obj2=list_operations([1,2,3,4])"
   ]
  },
  {
   "cell_type": "code",
   "execution_count": 73,
   "id": "8560185b-6a79-4766-997c-16d0fe643b74",
   "metadata": {},
   "outputs": [
    {
     "data": {
      "text/plain": [
       "[1, 2, 3, 4]"
      ]
     },
     "execution_count": 73,
     "metadata": {},
     "output_type": "execute_result"
    }
   ],
   "source": [
    "obj2.l1"
   ]
  },
  {
   "cell_type": "code",
   "execution_count": 75,
   "id": "06e903bb-2e1a-45b3-a3a7-ba7481e5de42",
   "metadata": {},
   "outputs": [
    {
     "data": {
      "text/plain": [
       "40"
      ]
     },
     "execution_count": 75,
     "metadata": {},
     "output_type": "execute_result"
    }
   ],
   "source": [
    "obj2.l2"
   ]
  },
  {
   "cell_type": "code",
   "execution_count": 77,
   "id": "929ba566-ff7a-4bd5-87d8-0c2073fd9585",
   "metadata": {},
   "outputs": [
    {
     "data": {
      "text/plain": [
       "(4, 5, 667, 8)"
      ]
     },
     "execution_count": 77,
     "metadata": {},
     "output_type": "execute_result"
    }
   ],
   "source": [
    "obj2.l4  #you can provide data at obj creation or inside vclass"
   ]
  },
  {
   "cell_type": "code",
   "execution_count": null,
   "id": "c59f528a-d0cd-4ba0-885f-d8cf127df4e4",
   "metadata": {},
   "outputs": [],
   "source": [
    "#if we provide data inside classs init fun"
   ]
  },
  {
   "cell_type": "code",
   "execution_count": 82,
   "id": "bead144b-793e-423e-89ba-fc6966d5d7e4",
   "metadata": {},
   "outputs": [],
   "source": [
    "class book:\n",
    "    def __init__(self,name,title,pageno):\n",
    "        self.name_of_book=name\n",
    "        self.title_of_book=title\n",
    "        self.page_no=pageno\n",
    "    def extract_details(self):\n",
    "        print(self.name_of_book,self.title_of_book) #to access class variable inside class see left side------outside class object. like this\n",
    "    def print_page_no(self):\n",
    "        print(self.page_no)"
   ]
  },
  {
   "cell_type": "code",
   "execution_count": 83,
   "id": "15d5d10e-c7a0-48bf-9805-be4b9324a43b",
   "metadata": {},
   "outputs": [],
   "source": [
    "vamshi=book(\"python\",\"practical python\",321)"
   ]
  },
  {
   "cell_type": "code",
   "execution_count": 84,
   "id": "9877b80a-6860-4e7b-89d7-de64e4f4c35a",
   "metadata": {},
   "outputs": [],
   "source": [
    "priya=book(\"ds\",\"implemnt ds\",134)\n",
    "sagar=book(\"can\",\"hhf\",234)"
   ]
  },
  {
   "cell_type": "code",
   "execution_count": 85,
   "id": "b2e4f11d-e86b-4d30-9fb9-fa926f9a9b4b",
   "metadata": {},
   "outputs": [
    {
     "name": "stdout",
     "output_type": "stream",
     "text": [
      "python practical python\n"
     ]
    }
   ],
   "source": [
    "vamshi.extract_details()"
   ]
  },
  {
   "cell_type": "code",
   "execution_count": 87,
   "id": "4b5b36cb-6831-4161-8b8c-d485e14a2a8c",
   "metadata": {},
   "outputs": [
    {
     "name": "stdout",
     "output_type": "stream",
     "text": [
      "ds implemnt ds\n"
     ]
    }
   ],
   "source": [
    "priya.extract_details()\n"
   ]
  },
  {
   "cell_type": "code",
   "execution_count": 88,
   "id": "6d263471-ff4c-4435-952d-380e11e1003b",
   "metadata": {},
   "outputs": [
    {
     "name": "stdout",
     "output_type": "stream",
     "text": [
      "can hhf\n"
     ]
    }
   ],
   "source": [
    "sagar.extract_details()"
   ]
  },
  {
   "cell_type": "code",
   "execution_count": 90,
   "id": "f6848fb0-f392-4781-98c4-83fe7a182538",
   "metadata": {},
   "outputs": [],
   "source": [
    "#it can able take different data to different objects based on object wise\n",
    "#based on diff object trying to assign diff data same like\n",
    "a=10\n",
    "b=30\n",
    "c=45\n",
    "#primitive data type means single data\n",
    "#but in classes we provided any type of data base on object--based on that we tried to use inside class "
   ]
  },
  {
   "cell_type": "code",
   "execution_count": 95,
   "id": "12d1f8f7-7dea-4414-96d8-8b081fe5e902",
   "metadata": {},
   "outputs": [
    {
     "data": {
      "text/plain": [
       "'python'"
      ]
     },
     "execution_count": 95,
     "metadata": {},
     "output_type": "execute_result"
    }
   ],
   "source": [
    "vamshi.name_of_book  #to extract individually"
   ]
  },
  {
   "cell_type": "code",
   "execution_count": 96,
   "id": "77d61381-8ef9-4a10-96d3-a7b79d7a23d9",
   "metadata": {},
   "outputs": [
    {
     "data": {
      "text/plain": [
       "'implemnt ds'"
      ]
     },
     "execution_count": 96,
     "metadata": {},
     "output_type": "execute_result"
    }
   ],
   "source": [
    "priya.title_of_book"
   ]
  },
  {
   "cell_type": "code",
   "execution_count": null,
   "id": "2b043817-f4c6-443a-80cc-e572a14486a4",
   "metadata": {},
   "outputs": [],
   "source": [
    "#if you dont want to pass data to diffrent objects then only try to use init\n",
    "#you can create class witjout passing data in begiining\n",
    "#if i mhave to pas sdata only if pass data diff data with diff diff object at time of creation of objecty itself if taht is \n",
    "a requirement then only try to use__init__ otherwise not required\n",
    "creation of __init__ is not mandatory"
   ]
  },
  {
   "cell_type": "code",
   "execution_count": null,
   "id": "e84bdea0-bf7a-4536-bb2f-639f45902319",
   "metadata": {},
   "outputs": [],
   "source": [
    "#if i have to pass data to diff dioff objects then only __init__ required"
   ]
  },
  {
   "cell_type": "code",
   "execution_count": null,
   "id": "0579c26e-0f0c-4b7d-90b3-900e645b1ade",
   "metadata": {},
   "outputs": [],
   "source": [
    "#if you want to pass data at time of creatiopn of object then do ikt without using__init__ function"
   ]
  },
  {
   "cell_type": "code",
   "execution_count": 97,
   "id": "d08e4601-a80d-447c-9944-49e6e087664e",
   "metadata": {},
   "outputs": [],
   "source": [
    "#if i want to create inint without data\n",
    "class book:\n",
    "    def __init__(self):\n",
    "        self.name_of_book=\"dsa\"\n",
    "        self.title_of_book=\"dsa advance\"\n",
    "        self.page_no=5646\n",
    "    def extract_details(self):\n",
    "        print(self.name_of_book,self.title_of_book) #to access class variable inside class see left side------outside class object. like this\n",
    "    def print_page_no(self):\n",
    "        print(self.page_no)"
   ]
  },
  {
   "cell_type": "code",
   "execution_count": null,
   "id": "521fb6f4-01c4-4182-8c7e-be6030f7143b",
   "metadata": {},
   "outputs": [],
   "source": [
    "#in above situation if you create any object have same data or details same book,title and page no\n",
    "#this is diff bw before one and this one"
   ]
  },
  {
   "cell_type": "code",
   "execution_count": 98,
   "id": "9d367361-771d-4b3f-8952-1e1aecc925a3",
   "metadata": {},
   "outputs": [],
   "source": [
    "student1=book()"
   ]
  },
  {
   "cell_type": "code",
   "execution_count": 99,
   "id": "d75a18c4-9ed0-4342-a4a9-f3b8b033364c",
   "metadata": {},
   "outputs": [
    {
     "data": {
      "text/plain": [
       "'dsa'"
      ]
     },
     "execution_count": 99,
     "metadata": {},
     "output_type": "execute_result"
    }
   ],
   "source": [
    "student1.name_of_book"
   ]
  },
  {
   "cell_type": "code",
   "execution_count": 100,
   "id": "813e46ca-ee4c-4188-9829-bb42cef1ed6e",
   "metadata": {},
   "outputs": [],
   "source": [
    "stu2=book()"
   ]
  },
  {
   "cell_type": "code",
   "execution_count": 101,
   "id": "fceeb6a3-d371-42b9-860b-eb64ec4bc8ba",
   "metadata": {},
   "outputs": [
    {
     "data": {
      "text/plain": [
       "'dsa'"
      ]
     },
     "execution_count": 101,
     "metadata": {},
     "output_type": "execute_result"
    }
   ],
   "source": [
    "stu2.name_of_book"
   ]
  },
  {
   "cell_type": "code",
   "execution_count": 115,
   "id": "b3641bf7-2e5f-41ff-97fa-7b5ccae6da17",
   "metadata": {},
   "outputs": [],
   "source": [
    "#ex--cretaing to class to logging into gmail\n",
    "class gmail_ops:\n",
    "    def __init__(self,userid,password):\n",
    "        self.user_id = userid\n",
    "        self.password = password  #for everyone userid ,password different\n",
    "        self.url = \"http://mail.google.com/mail/u/1/#inbox\"                #url same for everyone\n",
    "        \n",
    "    def login(self):\n",
    "        print(\"take userid\"+self.user_id+\"take password\"+self.password+\"hit url\"+self.url)\n",
    "        print(\"login successfully\")\n",
    "        \n",
    "    def read_mail(self):\n",
    "        print(\"read mail for user id\"+self.user_id+\"\"+self.password)\n",
    "        \n",
    "    def reply_mail(self):\n",
    "        print(\"reply mail for \"+self.user_id+\"\"+self.password)"
   ]
  },
  {
   "cell_type": "code",
   "execution_count": 116,
   "id": "994f6362-5069-45df-89fe-aca9c0d97413",
   "metadata": {},
   "outputs": [
    {
     "name": "stdout",
     "output_type": "stream",
     "text": [
      "take useriduser1take passworduser1passhit urlhttp://mail.google.com/mail/u/1/#inbox\n",
      "login successfully\n"
     ]
    }
   ],
   "source": [
    "user1=gmail_ops(\"user1\",\"user1pass\")\n",
    "user1.login()"
   ]
  },
  {
   "cell_type": "code",
   "execution_count": 117,
   "id": "be3de3a0-0f1d-4e65-add0-c335e6e33cfb",
   "metadata": {},
   "outputs": [
    {
     "name": "stdout",
     "output_type": "stream",
     "text": [
      "take useriduser2take passworduser2passhit urlhttp://mail.google.com/mail/u/1/#inbox\n",
      "login successfully\n"
     ]
    }
   ],
   "source": [
    "user2=gmail_ops(\"user2\",\"user2pass\")\n",
    "user2.login()"
   ]
  },
  {
   "cell_type": "code",
   "execution_count": null,
   "id": "3f69fd9e-e692-4f44-aa70-1acdeec6c144",
   "metadata": {},
   "outputs": [],
   "source": [
    "#for million users also gmail ops is depends on uszer id password\n",
    "#so we are using constructor __Init__\n",
    "#pass data which should be specific to the particular object\n",
    "#passing data to the respective object whenever required"
   ]
  },
  {
   "cell_type": "code",
   "execution_count": 123,
   "id": "d36650fd-8919-4807-8dd9-f72562636184",
   "metadata": {},
   "outputs": [],
   "source": [
    "#program for calculator\n",
    "from functools import reduce\n",
    "class calculator:\n",
    "    def add(self,*args):\n",
    "        return sum(args)\n",
    "    def sub(self,*args):\n",
    "        return reduce(lambda a,b:a-b,args)\n",
    "    def mult(self,*args):\n",
    "        return reduce(lambda a,b:a*b,args)\n",
    "    def div(self,*args):\n",
    "        return reduce(lambda a,b:a/b,args)"
   ]
  },
  {
   "cell_type": "code",
   "execution_count": 124,
   "id": "7f32c273-1ea3-4f7f-96d4-bf230f21dbcf",
   "metadata": {},
   "outputs": [],
   "source": [
    "vamshi = calculator()"
   ]
  },
  {
   "cell_type": "code",
   "execution_count": 125,
   "id": "54cd2ff6-61ab-4a29-8e2d-d6edfef5377f",
   "metadata": {},
   "outputs": [
    {
     "data": {
      "text/plain": [
       "15"
      ]
     },
     "execution_count": 125,
     "metadata": {},
     "output_type": "execute_result"
    }
   ],
   "source": [
    "vamshi.add(1,2,3,4,5)"
   ]
  },
  {
   "cell_type": "code",
   "execution_count": 126,
   "id": "8b3619df-45ea-4e7c-b316-94aff1482492",
   "metadata": {},
   "outputs": [
    {
     "data": {
      "text/plain": [
       "-37380"
      ]
     },
     "execution_count": 126,
     "metadata": {},
     "output_type": "execute_result"
    }
   ],
   "source": [
    "vamshi.sub(3,33737,3646)"
   ]
  },
  {
   "cell_type": "code",
   "execution_count": 127,
   "id": "b1fb1e04-6525-4a84-80b7-a0a0e5bc19b9",
   "metadata": {},
   "outputs": [
    {
     "data": {
      "text/plain": [
       "96"
      ]
     },
     "execution_count": 127,
     "metadata": {},
     "output_type": "execute_result"
    }
   ],
   "source": [
    "vamshi.mult(1,2,3,4,4)"
   ]
  },
  {
   "cell_type": "code",
   "execution_count": 128,
   "id": "ef135e1c-b39f-4ebe-9c49-6ad356132c39",
   "metadata": {},
   "outputs": [
    {
     "data": {
      "text/plain": [
       "0.041666666666666664"
      ]
     },
     "execution_count": 128,
     "metadata": {},
     "output_type": "execute_result"
    }
   ],
   "source": [
    "vamshi.div(1,2,3,4)"
   ]
  },
  {
   "cell_type": "code",
   "execution_count": 129,
   "id": "45a551ae-60b6-4543-9fd3-41077ee542cf",
   "metadata": {},
   "outputs": [],
   "source": [
    "priya=calculator()"
   ]
  },
  {
   "cell_type": "code",
   "execution_count": 130,
   "id": "e123ec15-6be8-4f31-9e79-0e786e7fc004",
   "metadata": {},
   "outputs": [
    {
     "data": {
      "text/plain": [
       "46"
      ]
     },
     "execution_count": 130,
     "metadata": {},
     "output_type": "execute_result"
    }
   ],
   "source": [
    "priya.add(1,23,4,5,5,8)"
   ]
  },
  {
   "cell_type": "code",
   "execution_count": 131,
   "id": "fdd0dddd-5c4c-4e5f-b3f4-1dff8bd4c4fc",
   "metadata": {},
   "outputs": [],
   "source": [
    "#calculator and try for user name along with result\n",
    "from functools import reduce\n",
    "class calculator:\n",
    "    def __init__(self,username):\n",
    "        self.username=username\n",
    "        \n",
    "    def add(self,*args):\n",
    "        return self.username,sum(args)\n",
    "    \n",
    "    def sub(self,*args):\n",
    "        return self.username,reduce(lambda a,b:a-b,args)\n",
    "    \n",
    "    def mult(self,*args):\n",
    "        return self.username,reduce(lambda a,b:a*b,args)\n",
    "    \n",
    "    def div(self,*args):\n",
    "        return self.username,reduce(lambda a,b:a/b,args)"
   ]
  },
  {
   "cell_type": "code",
   "execution_count": 133,
   "id": "8fe26aa6-51b9-4ffa-a7cd-e6ab1ac846c2",
   "metadata": {},
   "outputs": [],
   "source": [
    "vamshi=calculator(\"chulbul pandey\")"
   ]
  },
  {
   "cell_type": "code",
   "execution_count": 134,
   "id": "8e4879bf-1ae8-4763-84b4-9efa32362417",
   "metadata": {},
   "outputs": [
    {
     "data": {
      "text/plain": [
       "('chulbul pandey', 15)"
      ]
     },
     "execution_count": 134,
     "metadata": {},
     "output_type": "execute_result"
    }
   ],
   "source": [
    "vamshi.add(1,2,3,4,5)"
   ]
  },
  {
   "cell_type": "code",
   "execution_count": 136,
   "id": "8f33203e-3545-454e-9de4-1e7bec57e2b2",
   "metadata": {},
   "outputs": [
    {
     "data": {
      "text/plain": [
       "('chulbul pandey', -8)"
      ]
     },
     "execution_count": 136,
     "metadata": {},
     "output_type": "execute_result"
    }
   ],
   "source": [
    "vamshi.sub(1,2,3,4)"
   ]
  },
  {
   "cell_type": "code",
   "execution_count": 137,
   "id": "859e12dd-deaa-426c-8f91-d254319014ff",
   "metadata": {},
   "outputs": [
    {
     "data": {
      "text/plain": [
       "('chulbul pandey', 96)"
      ]
     },
     "execution_count": 137,
     "metadata": {},
     "output_type": "execute_result"
    }
   ],
   "source": [
    "vamshi.mult(1,2,3,4,4)"
   ]
  },
  {
   "cell_type": "code",
   "execution_count": null,
   "id": "e495eebf-be20-487a-b48e-c1378624ec0b",
   "metadata": {},
   "outputs": [],
   "source": [
    "#using exception handling in smae code\n",
    "#calculator and try for user name along with result\n",
    "#if i need keep track of it\n",
    "from functools import reduce\n",
    "class calculator:\n",
    "    def __init__(self,username):\n",
    "        self.username=username\n",
    "        \n",
    "    def add(self,*args):\n",
    "        return self.username,sum(args)\n",
    "    \n",
    "    def sub(self,*args):\n",
    "        return self.username,reduce(lambda a,b:a-b,args)\n",
    "    \n",
    "    def mult(self,*args):\n",
    "        return self.username,reduce(lambda a,b:a*b,args)\n",
    "    \n",
    "    def div(self,*args):\n",
    "        return self.username,reduce(lambda a,b:a/b,args)"
   ]
  },
  {
   "cell_type": "code",
   "execution_count": null,
   "id": "7553cc27-82c6-465e-aafc-8da9f8ac12ee",
   "metadata": {},
   "outputs": [],
   "source": [
    "*********task is to for every program you need to think about exception handling and logging*********\n",
    "it will never fail and keep track of everything"
   ]
  }
 ],
 "metadata": {
  "kernelspec": {
   "display_name": "Python 3 (ipykernel)",
   "language": "python",
   "name": "python3"
  },
  "language_info": {
   "codemirror_mode": {
    "name": "ipython",
    "version": 3
   },
   "file_extension": ".py",
   "mimetype": "text/x-python",
   "name": "python",
   "nbconvert_exporter": "python",
   "pygments_lexer": "ipython3",
   "version": "3.10.8"
  }
 },
 "nbformat": 4,
 "nbformat_minor": 5
}
